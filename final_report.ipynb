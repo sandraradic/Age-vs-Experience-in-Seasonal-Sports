{
 "cells": [
  {
   "cell_type": "markdown",
   "id": "c73ccacb-6a24-454f-b678-f31cb5f441dd",
   "metadata": {},
   "source": [
    "# Introduction"
   ]
  },
  {
   "cell_type": "markdown",
   "id": "1bb36db5-5da2-477d-9c83-5b072d944422",
   "metadata": {},
   "source": [
    "Every 2 years top athletes are put to the ultimate test - competing at the Olympics amongst their highest competitors. Notoriously, new-talent athletes are introduced at this international event, and winning a medal solidifies their credibility as a top performer (Horne, 2016).\n",
    "\n",
    "According to Apollaro et al, younger athletes tend to show more success in sports such as taekwondo, due to their physical strength and weight (Apollaro, 2022). However, studies such as by Ford and Williams have demonstrated through experimentation that higher skill level that comes with age contributes to more awards in sports such as soccer (Ford, 2013) or skiing.\n",
    "This leads us to our question: Across the summer and winter Olympics, is there a difference between the mean age of first-time Olympic medal winners? \n",
    "\n",
    "Based on our research, we predict that there will be a difference in mean age for first-time winners. Furthermore, we predict that Winter Olympic athletes will have an older mean age correlating with their higher skill level. This is because Winter Olympic events generally put more emphasis on long-term skill than physical capabilities that come with youth, which we believe would be a competitive advantage, thus skewing the Winter Olympic data towards older athletes (Ford, 2013). \n",
    "\n",
    "To conduct this analysis, we will be filtering our dataset of winter and summer Olympic medallists to ensure we only count the age of their debut win towards the mean of the sample population using age, season, and medals. Additionally, we will be using standard deviation as our scale parameter. We will be generalizing age across sports and genders, and assuming that the age of peak performance is similar in all of them. This is because we aim to find the mean age of the average Olympian, regardless of the sport they’re associated with. We hypothesize that due to extraneous demands and reliance on the environment in winter sports, the skill and mental and physical strengths of older athletes will prove more advantageous in the winter compared to the summer. In other words, we believe that there will be a difference between the mean age of first-time medal winners across the Winter and Summer Olympics."
   ]
  },
  {
   "cell_type": "markdown",
   "id": "7dc09c6e-7077-4d65-8b9f-18b6523d0721",
   "metadata": {},
   "source": [
    "# Methods"
   ]
  },
  {
   "cell_type": "markdown",
   "id": "33848774-d676-4d50-a016-657acd6282fe",
   "metadata": {},
   "source": [
    "### Load Libraries"
   ]
  },
  {
   "cell_type": "code",
   "execution_count": 1,
   "id": "75fc5472-76e4-4e7a-a5d6-032c943313ba",
   "metadata": {
    "vscode": {
     "languageId": "r"
    }
   },
   "outputs": [],
   "source": [
    "## code to get rid of warnings\n",
    "defaultW <- getOption(\"warn\") \n",
    "options(warn = -1) \n",
    "##\n",
    "\n",
    "suppressPackageStartupMessages(library(tidyverse))\n",
    "library(repr)\n",
    "library(digest)\n",
    "library(infer)\n",
    "library(broom)\n",
    "suppressPackageStartupMessages(library(gridExtra))\n",
    "library(cowplot)\n",
    "source(\"R/plotting.R\")\n",
    "source(\"R/display.R\")"
   ]
  },
  {
   "cell_type": "markdown",
   "id": "049dad31-f96c-432a-b277-862930e7306d",
   "metadata": {},
   "source": [
    "### Data Intake and Pre-Processing"
   ]
  },
  {
   "cell_type": "markdown",
   "id": "f00adcde-75e8-4aa6-bb57-49ea111a77ce",
   "metadata": {},
   "source": [
    "First, we will read the dataset. The code here assumes you've downloaded the dataset and placed them into a data folder. If you would like to run our code and follow along, please clone our GitHub repository  [here](https://github.com/KevinSaigon/stat-201-project)"
   ]
  },
  {
   "cell_type": "code",
   "execution_count": 2,
   "id": "2716a1ca-b751-49f0-a8de-6b3a277a0a43",
   "metadata": {
    "vscode": {
     "languageId": "r"
    }
   },
   "outputs": [],
   "source": [
    "data <- read.csv(file = \"data/athlete_events.csv\")"
   ]
  },
  {
   "cell_type": "markdown",
   "id": "8f5987d2-3236-4b5c-a864-459bd2961acd",
   "metadata": {},
   "source": [
    "We will then do some pre-processing to get rid of any athlete whose age is not known as well as filter out ones who did not win any medals.\n",
    "\n",
    "The next step is then to only count first-time wins for multiple-time medal winners (i.e Michael Phelps). The code below essentially only keeps the first occurrence of an athlete's ID, and since we sorted the data frame by Year, this equates to the athlete's first time winning the any medal."
   ]
  },
  {
   "cell_type": "code",
   "execution_count": 3,
   "id": "f7582bc3-99da-4fde-966d-71c04ee85dd2",
   "metadata": {
    "vscode": {
     "languageId": "r"
    }
   },
   "outputs": [
    {
     "data": {
      "text/html": [
       "<table class=\"dataframe\">\n",
       "<caption>A data.frame: 6 × 5</caption>\n",
       "<thead>\n",
       "\t<tr><th></th><th scope=col>ID</th><th scope=col>Name</th><th scope=col>Age</th><th scope=col>Season</th><th scope=col>Medal</th></tr>\n",
       "\t<tr><th></th><th scope=col>&lt;int&gt;</th><th scope=col>&lt;chr&gt;</th><th scope=col>&lt;int&gt;</th><th scope=col>&lt;chr&gt;</th><th scope=col>&lt;chr&gt;</th></tr>\n",
       "</thead>\n",
       "<tbody>\n",
       "\t<tr><th scope=row>1</th><td>12068</td><td>Arthur Charles Blake       </td><td>24</td><td>Summer</td><td>Silver</td></tr>\n",
       "\t<tr><th scope=row>2</th><td>12563</td><td>Conrad Helmut Fritz Bcker  </td><td>25</td><td>Summer</td><td>Gold  </td></tr>\n",
       "\t<tr><th scope=row>4</th><td>12929</td><td>John Mary Pius Boland      </td><td>25</td><td>Summer</td><td>Gold  </td></tr>\n",
       "\t<tr><th scope=row>6</th><td>16616</td><td>Thomas Edmund \"Tom\" Burke  </td><td>21</td><td>Summer</td><td>Gold  </td></tr>\n",
       "\t<tr><th scope=row>8</th><td>17492</td><td>Eugne Henri Callot         </td><td>20</td><td>Summer</td><td>Silver</td></tr>\n",
       "\t<tr><th scope=row>9</th><td>18785</td><td>Demetrius Emmanuel Casdagli</td><td>23</td><td>Summer</td><td>Silver</td></tr>\n",
       "</tbody>\n",
       "</table>\n"
      ],
      "text/latex": [
       "A data.frame: 6 × 5\n",
       "\\begin{tabular}{r|lllll}\n",
       "  & ID & Name & Age & Season & Medal\\\\\n",
       "  & <int> & <chr> & <int> & <chr> & <chr>\\\\\n",
       "\\hline\n",
       "\t1 & 12068 & Arthur Charles Blake        & 24 & Summer & Silver\\\\\n",
       "\t2 & 12563 & Conrad Helmut Fritz Bcker   & 25 & Summer & Gold  \\\\\n",
       "\t4 & 12929 & John Mary Pius Boland       & 25 & Summer & Gold  \\\\\n",
       "\t6 & 16616 & Thomas Edmund \"Tom\" Burke   & 21 & Summer & Gold  \\\\\n",
       "\t8 & 17492 & Eugne Henri Callot          & 20 & Summer & Silver\\\\\n",
       "\t9 & 18785 & Demetrius Emmanuel Casdagli & 23 & Summer & Silver\\\\\n",
       "\\end{tabular}\n"
      ],
      "text/markdown": [
       "\n",
       "A data.frame: 6 × 5\n",
       "\n",
       "| <!--/--> | ID &lt;int&gt; | Name &lt;chr&gt; | Age &lt;int&gt; | Season &lt;chr&gt; | Medal &lt;chr&gt; |\n",
       "|---|---|---|---|---|---|\n",
       "| 1 | 12068 | Arthur Charles Blake        | 24 | Summer | Silver |\n",
       "| 2 | 12563 | Conrad Helmut Fritz Bcker   | 25 | Summer | Gold   |\n",
       "| 4 | 12929 | John Mary Pius Boland       | 25 | Summer | Gold   |\n",
       "| 6 | 16616 | Thomas Edmund \"Tom\" Burke   | 21 | Summer | Gold   |\n",
       "| 8 | 17492 | Eugne Henri Callot          | 20 | Summer | Silver |\n",
       "| 9 | 18785 | Demetrius Emmanuel Casdagli | 23 | Summer | Silver |\n",
       "\n"
      ],
      "text/plain": [
       "  ID    Name                        Age Season Medal \n",
       "1 12068 Arthur Charles Blake        24  Summer Silver\n",
       "2 12563 Conrad Helmut Fritz Bcker   25  Summer Gold  \n",
       "4 12929 John Mary Pius Boland       25  Summer Gold  \n",
       "6 16616 Thomas Edmund \"Tom\" Burke   21  Summer Gold  \n",
       "8 17492 Eugne Henri Callot          20  Summer Silver\n",
       "9 18785 Demetrius Emmanuel Casdagli 23  Summer Silver"
      ]
     },
     "metadata": {},
     "output_type": "display_data"
    },
    {
     "name": "stdout",
     "output_type": "stream",
     "text": [
      "Table 1: Original dataset (first few examples)"
     ]
    }
   ],
   "source": [
    "processed_df <- data[order(data$Year),]  %>% \n",
    "    filter(!is.na(Age)) %>%    # get rid of NA/Age\n",
    "    filter(!is.na(Medal)) %>%  # get rid of anyone who didn't win a medal either\n",
    "    subset(select = c(ID, Name, Age, Season, Medal))\n",
    "\n",
    "first_time_only <- processed_df[match(unique(processed_df$ID), processed_df$ID),] # only first time winners now, if they won a second time, it was excluded\n",
    "    \n",
    "head(first_time_only)\n",
    "cat(\"Table 1: Original dataset (first few examples)\")"
   ]
  },
  {
   "cell_type": "markdown",
   "id": "bb485f6d-5866-429a-a96c-cefcf4a8965e",
   "metadata": {},
   "source": [
    "Next, we will split the data set by their Season, the Winter Olympics vs the Summer Olympics."
   ]
  },
  {
   "cell_type": "code",
   "execution_count": 4,
   "id": "6c2fa68b-6c23-4e47-9ed7-b6b29a406bbf",
   "metadata": {
    "vscode": {
     "languageId": "r"
    }
   },
   "outputs": [
    {
     "data": {
      "text/html": [
       "<table class=\"dataframe\">\n",
       "<caption>A data.frame: 6 × 5</caption>\n",
       "<thead>\n",
       "\t<tr><th></th><th scope=col>ID</th><th scope=col>Name</th><th scope=col>Age</th><th scope=col>Season</th><th scope=col>Medal</th></tr>\n",
       "\t<tr><th></th><th scope=col>&lt;int&gt;</th><th scope=col>&lt;chr&gt;</th><th scope=col>&lt;int&gt;</th><th scope=col>&lt;chr&gt;</th><th scope=col>&lt;chr&gt;</th></tr>\n",
       "</thead>\n",
       "<tbody>\n",
       "\t<tr><th scope=row>1</th><td> 391</td><td>Clarence John Abel           </td><td>23</td><td>Winter</td><td>Silver</td></tr>\n",
       "\t<tr><th scope=row>2</th><td>1341</td><td>Johan Petter hln (Andersson-)</td><td>44</td><td>Winter</td><td>Silver</td></tr>\n",
       "\t<tr><th scope=row>3</th><td>3872</td><td>William Harding Anderson     </td><td>22</td><td>Winter</td><td>Bronze</td></tr>\n",
       "\t<tr><th scope=row>4</th><td>4060</td><td>Georges Jules Andr           </td><td>47</td><td>Winter</td><td>Bronze</td></tr>\n",
       "\t<tr><th scope=row>5</th><td>5232</td><td>Thomas Alfred Arnold         </td><td>22</td><td>Winter</td><td>Silver</td></tr>\n",
       "\t<tr><th scope=row>6</th><td>5932</td><td>Alfred Aufdenblatten         </td><td>26</td><td>Winter</td><td>Gold  </td></tr>\n",
       "</tbody>\n",
       "</table>\n"
      ],
      "text/latex": [
       "A data.frame: 6 × 5\n",
       "\\begin{tabular}{r|lllll}\n",
       "  & ID & Name & Age & Season & Medal\\\\\n",
       "  & <int> & <chr> & <int> & <chr> & <chr>\\\\\n",
       "\\hline\n",
       "\t1 &  391 & Clarence John Abel            & 23 & Winter & Silver\\\\\n",
       "\t2 & 1341 & Johan Petter hln (Andersson-) & 44 & Winter & Silver\\\\\n",
       "\t3 & 3872 & William Harding Anderson      & 22 & Winter & Bronze\\\\\n",
       "\t4 & 4060 & Georges Jules Andr            & 47 & Winter & Bronze\\\\\n",
       "\t5 & 5232 & Thomas Alfred Arnold          & 22 & Winter & Silver\\\\\n",
       "\t6 & 5932 & Alfred Aufdenblatten          & 26 & Winter & Gold  \\\\\n",
       "\\end{tabular}\n"
      ],
      "text/markdown": [
       "\n",
       "A data.frame: 6 × 5\n",
       "\n",
       "| <!--/--> | ID &lt;int&gt; | Name &lt;chr&gt; | Age &lt;int&gt; | Season &lt;chr&gt; | Medal &lt;chr&gt; |\n",
       "|---|---|---|---|---|---|\n",
       "| 1 |  391 | Clarence John Abel            | 23 | Winter | Silver |\n",
       "| 2 | 1341 | Johan Petter hln (Andersson-) | 44 | Winter | Silver |\n",
       "| 3 | 3872 | William Harding Anderson      | 22 | Winter | Bronze |\n",
       "| 4 | 4060 | Georges Jules Andr            | 47 | Winter | Bronze |\n",
       "| 5 | 5232 | Thomas Alfred Arnold          | 22 | Winter | Silver |\n",
       "| 6 | 5932 | Alfred Aufdenblatten          | 26 | Winter | Gold   |\n",
       "\n"
      ],
      "text/plain": [
       "  ID   Name                          Age Season Medal \n",
       "1  391 Clarence John Abel            23  Winter Silver\n",
       "2 1341 Johan Petter hln (Andersson-) 44  Winter Silver\n",
       "3 3872 William Harding Anderson      22  Winter Bronze\n",
       "4 4060 Georges Jules Andr            47  Winter Bronze\n",
       "5 5232 Thomas Alfred Arnold          22  Winter Silver\n",
       "6 5932 Alfred Aufdenblatten          26  Winter Gold  "
      ]
     },
     "metadata": {},
     "output_type": "display_data"
    },
    {
     "name": "stdout",
     "output_type": "stream",
     "text": [
      "Table 2.1: Winter dataframe (first few examples)\n",
      "\n",
      "Number of Examples: 3658 \n",
      "\n"
     ]
    },
    {
     "data": {
      "text/html": [
       "<table class=\"dataframe\">\n",
       "<caption>A data.frame: 6 × 5</caption>\n",
       "<thead>\n",
       "\t<tr><th></th><th scope=col>ID</th><th scope=col>Name</th><th scope=col>Age</th><th scope=col>Season</th><th scope=col>Medal</th></tr>\n",
       "\t<tr><th></th><th scope=col>&lt;int&gt;</th><th scope=col>&lt;chr&gt;</th><th scope=col>&lt;int&gt;</th><th scope=col>&lt;chr&gt;</th><th scope=col>&lt;chr&gt;</th></tr>\n",
       "</thead>\n",
       "<tbody>\n",
       "\t<tr><th scope=row>1</th><td>12068</td><td>Arthur Charles Blake       </td><td>24</td><td>Summer</td><td>Silver</td></tr>\n",
       "\t<tr><th scope=row>2</th><td>12563</td><td>Conrad Helmut Fritz Bcker  </td><td>25</td><td>Summer</td><td>Gold  </td></tr>\n",
       "\t<tr><th scope=row>3</th><td>12929</td><td>John Mary Pius Boland      </td><td>25</td><td>Summer</td><td>Gold  </td></tr>\n",
       "\t<tr><th scope=row>4</th><td>16616</td><td>Thomas Edmund \"Tom\" Burke  </td><td>21</td><td>Summer</td><td>Gold  </td></tr>\n",
       "\t<tr><th scope=row>5</th><td>17492</td><td>Eugne Henri Callot         </td><td>20</td><td>Summer</td><td>Silver</td></tr>\n",
       "\t<tr><th scope=row>6</th><td>18785</td><td>Demetrius Emmanuel Casdagli</td><td>23</td><td>Summer</td><td>Silver</td></tr>\n",
       "</tbody>\n",
       "</table>\n"
      ],
      "text/latex": [
       "A data.frame: 6 × 5\n",
       "\\begin{tabular}{r|lllll}\n",
       "  & ID & Name & Age & Season & Medal\\\\\n",
       "  & <int> & <chr> & <int> & <chr> & <chr>\\\\\n",
       "\\hline\n",
       "\t1 & 12068 & Arthur Charles Blake        & 24 & Summer & Silver\\\\\n",
       "\t2 & 12563 & Conrad Helmut Fritz Bcker   & 25 & Summer & Gold  \\\\\n",
       "\t3 & 12929 & John Mary Pius Boland       & 25 & Summer & Gold  \\\\\n",
       "\t4 & 16616 & Thomas Edmund \"Tom\" Burke   & 21 & Summer & Gold  \\\\\n",
       "\t5 & 17492 & Eugne Henri Callot          & 20 & Summer & Silver\\\\\n",
       "\t6 & 18785 & Demetrius Emmanuel Casdagli & 23 & Summer & Silver\\\\\n",
       "\\end{tabular}\n"
      ],
      "text/markdown": [
       "\n",
       "A data.frame: 6 × 5\n",
       "\n",
       "| <!--/--> | ID &lt;int&gt; | Name &lt;chr&gt; | Age &lt;int&gt; | Season &lt;chr&gt; | Medal &lt;chr&gt; |\n",
       "|---|---|---|---|---|---|\n",
       "| 1 | 12068 | Arthur Charles Blake        | 24 | Summer | Silver |\n",
       "| 2 | 12563 | Conrad Helmut Fritz Bcker   | 25 | Summer | Gold   |\n",
       "| 3 | 12929 | John Mary Pius Boland       | 25 | Summer | Gold   |\n",
       "| 4 | 16616 | Thomas Edmund \"Tom\" Burke   | 21 | Summer | Gold   |\n",
       "| 5 | 17492 | Eugne Henri Callot          | 20 | Summer | Silver |\n",
       "| 6 | 18785 | Demetrius Emmanuel Casdagli | 23 | Summer | Silver |\n",
       "\n"
      ],
      "text/plain": [
       "  ID    Name                        Age Season Medal \n",
       "1 12068 Arthur Charles Blake        24  Summer Silver\n",
       "2 12563 Conrad Helmut Fritz Bcker   25  Summer Gold  \n",
       "3 12929 John Mary Pius Boland       25  Summer Gold  \n",
       "4 16616 Thomas Edmund \"Tom\" Burke   21  Summer Gold  \n",
       "5 17492 Eugne Henri Callot          20  Summer Silver\n",
       "6 18785 Demetrius Emmanuel Casdagli 23  Summer Silver"
      ]
     },
     "metadata": {},
     "output_type": "display_data"
    },
    {
     "name": "stdout",
     "output_type": "stream",
     "text": [
      "Table 2.2: Summer dataframe (first few examples)\n",
      "\n",
      "Number of Examples: 23949"
     ]
    }
   ],
   "source": [
    "winter_df <- first_time_only %>% \n",
    "    filter(Season == \"Winter\")\n",
    "\n",
    "summer_df <- first_time_only %>% \n",
    "    filter(Season == \"Summer\")\n",
    "\n",
    "head(winter_df)\n",
    "cat(\"Table 2.1: Winter dataframe (first few examples)\\n\\n\")\n",
    "cat(c(\"Number of Examples:\", nrow(winter_df)), \"\\n\\n\")\n",
    "\n",
    "head(summer_df)\n",
    "cat(\"Table 2.2: Summer dataframe (first few examples)\\n\\n\")\n",
    "cat(c(\"Number of Examples:\", nrow(summer_df)))\n"
   ]
  },
  {
   "cell_type": "markdown",
   "id": "69d3c367-b082-43b5-93d1-da9f1b08ec55",
   "metadata": {},
   "source": [
    "### Calculations "
   ]
  },
  {
   "cell_type": "markdown",
   "id": "2f6219c3-1967-4a8f-99d0-ed964be1233a",
   "metadata": {},
   "source": [
    "If we are assuming that this dataset is 100% accurate and thus represents the entire population of all Olympic participants, then we could consider the dataset a population, and thus uncertainty would be 0%. However, in reality, if we were trying to gather this dataset ourselves, it is extremely unlikely as well as unfeasible to collect so many data points. Realistically, we would take a sample of this population, so we will take an initial sample of 1000."
   ]
  },
  {
   "cell_type": "code",
   "execution_count": 5,
   "id": "6c4b66a6-74e5-4130-812f-eec1f7fed034",
   "metadata": {
    "vscode": {
     "languageId": "r"
    }
   },
   "outputs": [
    {
     "data": {
      "text/html": [
       "<table class=\"dataframe\">\n",
       "<caption>A tibble: 6 × 5</caption>\n",
       "<thead>\n",
       "\t<tr><th scope=col>ID</th><th scope=col>Name</th><th scope=col>Age</th><th scope=col>Season</th><th scope=col>Medal</th></tr>\n",
       "\t<tr><th scope=col>&lt;int&gt;</th><th scope=col>&lt;chr&gt;</th><th scope=col>&lt;int&gt;</th><th scope=col>&lt;chr&gt;</th><th scope=col>&lt;chr&gt;</th></tr>\n",
       "</thead>\n",
       "<tbody>\n",
       "\t<tr><td>85481</td><td>Michael Neumayer          </td><td>31</td><td>Winter</td><td>Silver</td></tr>\n",
       "\t<tr><td>25759</td><td>Vitaly Semyonovich Davydov</td><td>24</td><td>Winter</td><td>Gold  </td></tr>\n",
       "\t<tr><td> 3951</td><td>Lina Marie Andersson      </td><td>24</td><td>Winter</td><td>Gold  </td></tr>\n",
       "\t<tr><td>44916</td><td>Veikko Johannes Hakulinen </td><td>27</td><td>Winter</td><td>Gold  </td></tr>\n",
       "\t<tr><td>42073</td><td>Amlie Goulet-Nadon        </td><td>19</td><td>Winter</td><td>Bronze</td></tr>\n",
       "\t<tr><td>49094</td><td>Lukas Hofer               </td><td>24</td><td>Winter</td><td>Bronze</td></tr>\n",
       "</tbody>\n",
       "</table>\n"
      ],
      "text/latex": [
       "A tibble: 6 × 5\n",
       "\\begin{tabular}{lllll}\n",
       " ID & Name & Age & Season & Medal\\\\\n",
       " <int> & <chr> & <int> & <chr> & <chr>\\\\\n",
       "\\hline\n",
       "\t 85481 & Michael Neumayer           & 31 & Winter & Silver\\\\\n",
       "\t 25759 & Vitaly Semyonovich Davydov & 24 & Winter & Gold  \\\\\n",
       "\t  3951 & Lina Marie Andersson       & 24 & Winter & Gold  \\\\\n",
       "\t 44916 & Veikko Johannes Hakulinen  & 27 & Winter & Gold  \\\\\n",
       "\t 42073 & Amlie Goulet-Nadon         & 19 & Winter & Bronze\\\\\n",
       "\t 49094 & Lukas Hofer                & 24 & Winter & Bronze\\\\\n",
       "\\end{tabular}\n"
      ],
      "text/markdown": [
       "\n",
       "A tibble: 6 × 5\n",
       "\n",
       "| ID &lt;int&gt; | Name &lt;chr&gt; | Age &lt;int&gt; | Season &lt;chr&gt; | Medal &lt;chr&gt; |\n",
       "|---|---|---|---|---|\n",
       "| 85481 | Michael Neumayer           | 31 | Winter | Silver |\n",
       "| 25759 | Vitaly Semyonovich Davydov | 24 | Winter | Gold   |\n",
       "|  3951 | Lina Marie Andersson       | 24 | Winter | Gold   |\n",
       "| 44916 | Veikko Johannes Hakulinen  | 27 | Winter | Gold   |\n",
       "| 42073 | Amlie Goulet-Nadon         | 19 | Winter | Bronze |\n",
       "| 49094 | Lukas Hofer                | 24 | Winter | Bronze |\n",
       "\n"
      ],
      "text/plain": [
       "  ID    Name                       Age Season Medal \n",
       "1 85481 Michael Neumayer           31  Winter Silver\n",
       "2 25759 Vitaly Semyonovich Davydov 24  Winter Gold  \n",
       "3  3951 Lina Marie Andersson       24  Winter Gold  \n",
       "4 44916 Veikko Johannes Hakulinen  27  Winter Gold  \n",
       "5 42073 Amlie Goulet-Nadon         19  Winter Bronze\n",
       "6 49094 Lukas Hofer                24  Winter Bronze"
      ]
     },
     "metadata": {},
     "output_type": "display_data"
    },
    {
     "name": "stdout",
     "output_type": "stream",
     "text": [
      "Table 3.1: Winter sample (first few examples)\n",
      "\n"
     ]
    },
    {
     "data": {
      "text/html": [
       "<table class=\"dataframe\">\n",
       "<caption>A tibble: 6 × 5</caption>\n",
       "<thead>\n",
       "\t<tr><th scope=col>ID</th><th scope=col>Name</th><th scope=col>Age</th><th scope=col>Season</th><th scope=col>Medal</th></tr>\n",
       "\t<tr><th scope=col>&lt;int&gt;</th><th scope=col>&lt;chr&gt;</th><th scope=col>&lt;int&gt;</th><th scope=col>&lt;chr&gt;</th><th scope=col>&lt;chr&gt;</th></tr>\n",
       "</thead>\n",
       "<tbody>\n",
       "\t<tr><td> 30312</td><td>Konstantin Dubrovin             </td><td>19</td><td>Summer</td><td>Bronze</td></tr>\n",
       "\t<tr><td>103786</td><td>Matthew \"Matt\" Ryan             </td><td>24</td><td>Summer</td><td>Silver</td></tr>\n",
       "\t<tr><td> 92507</td><td>Christie Patricia Pearce-Rampone</td><td>25</td><td>Summer</td><td>Silver</td></tr>\n",
       "\t<tr><td>105068</td><td>Robert Lewis \"Bob\" Samuelson    </td><td>25</td><td>Summer</td><td>Bronze</td></tr>\n",
       "\t<tr><td> 39803</td><td>Atanas Ivanov Gerov             </td><td>23</td><td>Summer</td><td>Silver</td></tr>\n",
       "\t<tr><td> 99838</td><td>Walter Reisp                    </td><td>25</td><td>Summer</td><td>Silver</td></tr>\n",
       "</tbody>\n",
       "</table>\n"
      ],
      "text/latex": [
       "A tibble: 6 × 5\n",
       "\\begin{tabular}{lllll}\n",
       " ID & Name & Age & Season & Medal\\\\\n",
       " <int> & <chr> & <int> & <chr> & <chr>\\\\\n",
       "\\hline\n",
       "\t  30312 & Konstantin Dubrovin              & 19 & Summer & Bronze\\\\\n",
       "\t 103786 & Matthew \"Matt\" Ryan              & 24 & Summer & Silver\\\\\n",
       "\t  92507 & Christie Patricia Pearce-Rampone & 25 & Summer & Silver\\\\\n",
       "\t 105068 & Robert Lewis \"Bob\" Samuelson     & 25 & Summer & Bronze\\\\\n",
       "\t  39803 & Atanas Ivanov Gerov              & 23 & Summer & Silver\\\\\n",
       "\t  99838 & Walter Reisp                     & 25 & Summer & Silver\\\\\n",
       "\\end{tabular}\n"
      ],
      "text/markdown": [
       "\n",
       "A tibble: 6 × 5\n",
       "\n",
       "| ID &lt;int&gt; | Name &lt;chr&gt; | Age &lt;int&gt; | Season &lt;chr&gt; | Medal &lt;chr&gt; |\n",
       "|---|---|---|---|---|\n",
       "|  30312 | Konstantin Dubrovin              | 19 | Summer | Bronze |\n",
       "| 103786 | Matthew \"Matt\" Ryan              | 24 | Summer | Silver |\n",
       "|  92507 | Christie Patricia Pearce-Rampone | 25 | Summer | Silver |\n",
       "| 105068 | Robert Lewis \"Bob\" Samuelson     | 25 | Summer | Bronze |\n",
       "|  39803 | Atanas Ivanov Gerov              | 23 | Summer | Silver |\n",
       "|  99838 | Walter Reisp                     | 25 | Summer | Silver |\n",
       "\n"
      ],
      "text/plain": [
       "  ID     Name                             Age Season Medal \n",
       "1  30312 Konstantin Dubrovin              19  Summer Bronze\n",
       "2 103786 Matthew \"Matt\" Ryan              24  Summer Silver\n",
       "3  92507 Christie Patricia Pearce-Rampone 25  Summer Silver\n",
       "4 105068 Robert Lewis \"Bob\" Samuelson     25  Summer Bronze\n",
       "5  39803 Atanas Ivanov Gerov              23  Summer Silver\n",
       "6  99838 Walter Reisp                     25  Summer Silver"
      ]
     },
     "metadata": {},
     "output_type": "display_data"
    },
    {
     "name": "stdout",
     "output_type": "stream",
     "text": [
      "Table 3.2: Summer sample (first few examples)"
     ]
    }
   ],
   "source": [
    "set.seed(42069)\n",
    "\n",
    "winter_sample <- winter_df %>% \n",
    "    rep_sample_n(size = 1000, reps = 1) %>% \n",
    "    subset(select = -(replicate))\n",
    "\n",
    "summer_sample <- summer_df %>% \n",
    "    rep_sample_n(size = 1000, reps = 1) %>% \n",
    "    subset(select = -(replicate))\n",
    "\n",
    "head(winter_sample)\n",
    "cat(\"Table 3.1: Winter sample (first few examples)\\n\\n\")\n",
    "head(summer_sample)\n",
    "cat(\"Table 3.2: Summer sample (first few examples)\")"
   ]
  },
  {
   "cell_type": "markdown",
   "id": "b1474984-1318-486f-869f-8d6694c3cb35",
   "metadata": {},
   "source": [
    "From this, we can calculate our estimates of the mean for each season"
   ]
  },
  {
   "cell_type": "code",
   "execution_count": 6,
   "id": "48752455-70f6-4cab-b89c-c9116e13193b",
   "metadata": {
    "vscode": {
     "languageId": "r"
    }
   },
   "outputs": [
    {
     "name": "stdout",
     "output_type": "stream",
     "text": [
      "Winter Mean Estimate: 25.165 \n",
      "Summer Mean Estimate: 25.078"
     ]
    }
   ],
   "source": [
    "winter_mean_estimate <- mean(winter_sample$Age)\n",
    "summer_mean_estimate <- mean(summer_sample$Age)\n",
    "\n",
    "cat(\"Winter Mean Estimate:\", winter_mean_estimate, \"\\nSummer Mean Estimate:\", summer_mean_estimate)"
   ]
  },
  {
   "cell_type": "markdown",
   "id": "d561ee36-c069-4c37-8aba-c1c920db79d4",
   "metadata": {
    "tags": []
   },
   "source": [
    "### Sampling"
   ]
  },
  {
   "cell_type": "markdown",
   "id": "a8a36b70-2558-4a4b-a366-94d191fdf751",
   "metadata": {},
   "source": [
    "Then, we'll perform bootstrapping or resampling with replacement for uncertainty calculations later on."
   ]
  },
  {
   "cell_type": "code",
   "execution_count": 7,
   "id": "b35fbc63-2a97-494e-8f30-a0ca0e1b5e23",
   "metadata": {
    "vscode": {
     "languageId": "r"
    }
   },
   "outputs": [
    {
     "data": {
      "text/html": [
       "<table class=\"dataframe\">\n",
       "<caption>A grouped_df: 5 × 6</caption>\n",
       "<thead>\n",
       "\t<tr><th scope=col>replicate</th><th scope=col>ID</th><th scope=col>Name</th><th scope=col>Age</th><th scope=col>Season</th><th scope=col>Medal</th></tr>\n",
       "\t<tr><th scope=col>&lt;int&gt;</th><th scope=col>&lt;int&gt;</th><th scope=col>&lt;chr&gt;</th><th scope=col>&lt;int&gt;</th><th scope=col>&lt;chr&gt;</th><th scope=col>&lt;chr&gt;</th></tr>\n",
       "</thead>\n",
       "<tbody>\n",
       "\t<tr><td>1</td><td>59251</td><td>Ilias Khatzipavlis               </td><td>23</td><td>Summer</td><td>Silver</td></tr>\n",
       "\t<tr><td>1</td><td>26210</td><td>Regina Constance \"Reggie\" de Jong</td><td>16</td><td>Summer</td><td>Bronze</td></tr>\n",
       "\t<tr><td>1</td><td>63441</td><td>Andriy Kovalenko                 </td><td>21</td><td>Summer</td><td>Bronze</td></tr>\n",
       "\t<tr><td>1</td><td>33767</td><td>Otto Fahr                        </td><td>19</td><td>Summer</td><td>Silver</td></tr>\n",
       "\t<tr><td>1</td><td>69088</td><td>Melanie Leupolz                  </td><td>22</td><td>Summer</td><td>Gold  </td></tr>\n",
       "</tbody>\n",
       "</table>\n"
      ],
      "text/latex": [
       "A grouped\\_df: 5 × 6\n",
       "\\begin{tabular}{llllll}\n",
       " replicate & ID & Name & Age & Season & Medal\\\\\n",
       " <int> & <int> & <chr> & <int> & <chr> & <chr>\\\\\n",
       "\\hline\n",
       "\t 1 & 59251 & Ilias Khatzipavlis                & 23 & Summer & Silver\\\\\n",
       "\t 1 & 26210 & Regina Constance \"Reggie\" de Jong & 16 & Summer & Bronze\\\\\n",
       "\t 1 & 63441 & Andriy Kovalenko                  & 21 & Summer & Bronze\\\\\n",
       "\t 1 & 33767 & Otto Fahr                         & 19 & Summer & Silver\\\\\n",
       "\t 1 & 69088 & Melanie Leupolz                   & 22 & Summer & Gold  \\\\\n",
       "\\end{tabular}\n"
      ],
      "text/markdown": [
       "\n",
       "A grouped_df: 5 × 6\n",
       "\n",
       "| replicate &lt;int&gt; | ID &lt;int&gt; | Name &lt;chr&gt; | Age &lt;int&gt; | Season &lt;chr&gt; | Medal &lt;chr&gt; |\n",
       "|---|---|---|---|---|---|\n",
       "| 1 | 59251 | Ilias Khatzipavlis                | 23 | Summer | Silver |\n",
       "| 1 | 26210 | Regina Constance \"Reggie\" de Jong | 16 | Summer | Bronze |\n",
       "| 1 | 63441 | Andriy Kovalenko                  | 21 | Summer | Bronze |\n",
       "| 1 | 33767 | Otto Fahr                         | 19 | Summer | Silver |\n",
       "| 1 | 69088 | Melanie Leupolz                   | 22 | Summer | Gold   |\n",
       "\n"
      ],
      "text/plain": [
       "  replicate ID    Name                              Age Season Medal \n",
       "1 1         59251 Ilias Khatzipavlis                23  Summer Silver\n",
       "2 1         26210 Regina Constance \"Reggie\" de Jong 16  Summer Bronze\n",
       "3 1         63441 Andriy Kovalenko                  21  Summer Bronze\n",
       "4 1         33767 Otto Fahr                         19  Summer Silver\n",
       "5 1         69088 Melanie Leupolz                   22  Summer Gold  "
      ]
     },
     "metadata": {},
     "output_type": "display_data"
    },
    {
     "name": "stdout",
     "output_type": "stream",
     "text": [
      "Table 4.1: Preview of Summer Bootstrap sample\n",
      "\n"
     ]
    },
    {
     "data": {
      "text/html": [
       "<table class=\"dataframe\">\n",
       "<caption>A grouped_df: 5 × 6</caption>\n",
       "<thead>\n",
       "\t<tr><th scope=col>replicate</th><th scope=col>ID</th><th scope=col>Name</th><th scope=col>Age</th><th scope=col>Season</th><th scope=col>Medal</th></tr>\n",
       "\t<tr><th scope=col>&lt;int&gt;</th><th scope=col>&lt;int&gt;</th><th scope=col>&lt;chr&gt;</th><th scope=col>&lt;int&gt;</th><th scope=col>&lt;chr&gt;</th><th scope=col>&lt;chr&gt;</th></tr>\n",
       "</thead>\n",
       "<tbody>\n",
       "\t<tr><td>1</td><td>71036</td><td>James \"Jim\" Logan        </td><td>22</td><td>Winter</td><td>Bronze</td></tr>\n",
       "\t<tr><td>1</td><td>28397</td><td>Judith Anne \"Judy\" Diduck</td><td>31</td><td>Winter</td><td>Silver</td></tr>\n",
       "\t<tr><td>1</td><td>61583</td><td>Deborah \"Debbie\" Knox    </td><td>33</td><td>Winter</td><td>Gold  </td></tr>\n",
       "\t<tr><td>1</td><td>62905</td><td>Lisbeth Korsmo-Berg      </td><td>28</td><td>Winter</td><td>Bronze</td></tr>\n",
       "\t<tr><td>1</td><td>91845</td><td>Gabriella Paruzzi        </td><td>22</td><td>Winter</td><td>Bronze</td></tr>\n",
       "</tbody>\n",
       "</table>\n"
      ],
      "text/latex": [
       "A grouped\\_df: 5 × 6\n",
       "\\begin{tabular}{llllll}\n",
       " replicate & ID & Name & Age & Season & Medal\\\\\n",
       " <int> & <int> & <chr> & <int> & <chr> & <chr>\\\\\n",
       "\\hline\n",
       "\t 1 & 71036 & James \"Jim\" Logan         & 22 & Winter & Bronze\\\\\n",
       "\t 1 & 28397 & Judith Anne \"Judy\" Diduck & 31 & Winter & Silver\\\\\n",
       "\t 1 & 61583 & Deborah \"Debbie\" Knox     & 33 & Winter & Gold  \\\\\n",
       "\t 1 & 62905 & Lisbeth Korsmo-Berg       & 28 & Winter & Bronze\\\\\n",
       "\t 1 & 91845 & Gabriella Paruzzi         & 22 & Winter & Bronze\\\\\n",
       "\\end{tabular}\n"
      ],
      "text/markdown": [
       "\n",
       "A grouped_df: 5 × 6\n",
       "\n",
       "| replicate &lt;int&gt; | ID &lt;int&gt; | Name &lt;chr&gt; | Age &lt;int&gt; | Season &lt;chr&gt; | Medal &lt;chr&gt; |\n",
       "|---|---|---|---|---|---|\n",
       "| 1 | 71036 | James \"Jim\" Logan         | 22 | Winter | Bronze |\n",
       "| 1 | 28397 | Judith Anne \"Judy\" Diduck | 31 | Winter | Silver |\n",
       "| 1 | 61583 | Deborah \"Debbie\" Knox     | 33 | Winter | Gold   |\n",
       "| 1 | 62905 | Lisbeth Korsmo-Berg       | 28 | Winter | Bronze |\n",
       "| 1 | 91845 | Gabriella Paruzzi         | 22 | Winter | Bronze |\n",
       "\n"
      ],
      "text/plain": [
       "  replicate ID    Name                      Age Season Medal \n",
       "1 1         71036 James \"Jim\" Logan         22  Winter Bronze\n",
       "2 1         28397 Judith Anne \"Judy\" Diduck 31  Winter Silver\n",
       "3 1         61583 Deborah \"Debbie\" Knox     33  Winter Gold  \n",
       "4 1         62905 Lisbeth Korsmo-Berg       28  Winter Bronze\n",
       "5 1         91845 Gabriella Paruzzi         22  Winter Bronze"
      ]
     },
     "metadata": {},
     "output_type": "display_data"
    },
    {
     "name": "stdout",
     "output_type": "stream",
     "text": [
      "Table 4.2: Preview of Winter Bootstrap sample"
     ]
    }
   ],
   "source": [
    "set.seed(42069)\n",
    "\n",
    "winter_bootstrap <- winter_sample %>% \n",
    "    rep_sample_n(size = 1000, reps = 200, replace = TRUE)\n",
    "\n",
    "summer_bootstrap <- summer_sample %>% \n",
    "    rep_sample_n(size = 1000, reps = 200, replace = TRUE)\n",
    "\n",
    "head(summer_bootstrap, 5)\n",
    "cat(\"Table 4.1: Preview of Summer Bootstrap sample\\n\\n\")\n",
    "head(winter_bootstrap, 5)\n",
    "cat(\"Table 4.2: Preview of Winter Bootstrap sample\")"
   ]
  },
  {
   "cell_type": "markdown",
   "id": "e1469939-5f93-471b-b743-d84034ba89ab",
   "metadata": {},
   "source": [
    "Now, we will calculate the sample mean for each sample."
   ]
  },
  {
   "cell_type": "code",
   "execution_count": 8,
   "id": "5f970633-fb8c-4da5-909b-2de14ebed2a8",
   "metadata": {
    "vscode": {
     "languageId": "r"
    }
   },
   "outputs": [
    {
     "name": "stdout",
     "output_type": "stream",
     "text": [
      "Table 5: Sample of Mean age for Winter and Summer Olympic (first 17 examples)"
     ]
    },
    {
     "data": {
      "image/png": "[encoded data removed]",
      "text/plain": [
       "plot without title"
      ]
     },
     "metadata": {
      "image/png": {
       "height": 420,
       "width": 420
      }
     },
     "output_type": "display_data"
    }
   ],
   "source": [
    "winter_resampled_means <- winter_bootstrap %>% \n",
    "    group_by(replicate) %>% \n",
    "    summarize(mean_age = mean(Age))\n",
    "\n",
    "summer_resampled_means <- summer_bootstrap %>% \n",
    "    group_by(replicate) %>% \n",
    "    summarize(mean_age = mean(Age))\n",
    "\n",
    "df_list = list(head(winter_resampled_means, 17), head(summer_resampled_means, 17))\n",
    "table_render(df_list)\n",
    "cat(\"Table 5: Sample of Mean age for Winter and Summer Olympic (first 17 examples)\")"
   ]
  },
  {
   "cell_type": "markdown",
   "id": "59d48c81-d2d3-4c7a-962b-4ffb319cb271",
   "metadata": {},
   "source": [
    "### Visualizations"
   ]
  },
  {
   "cell_type": "markdown",
   "id": "b3ca5654-5ca4-40c5-9182-17e378e2c630",
   "metadata": {},
   "source": [
    "Let's first remind ourselves of our calculated estimates."
   ]
  },
  {
   "cell_type": "code",
   "execution_count": 9,
   "id": "92f5df3e-899d-4702-9a3f-49199bd27a1e",
   "metadata": {
    "vscode": {
     "languageId": "r"
    }
   },
   "outputs": [
    {
     "data": {
      "text/html": [
       "<table class=\"dataframe\">\n",
       "<caption>A data.frame: 2 × 2</caption>\n",
       "<thead>\n",
       "\t<tr><th scope=col>name</th><th scope=col>values</th></tr>\n",
       "\t<tr><th scope=col>&lt;chr&gt;</th><th scope=col>&lt;dbl&gt;</th></tr>\n",
       "</thead>\n",
       "<tbody>\n",
       "\t<tr><td>Winter Mean Estimate</td><td>25.165</td></tr>\n",
       "\t<tr><td>Summer Mean Estimate</td><td>25.078</td></tr>\n",
       "</tbody>\n",
       "</table>\n"
      ],
      "text/latex": [
       "A data.frame: 2 × 2\n",
       "\\begin{tabular}{ll}\n",
       " name & values\\\\\n",
       " <chr> & <dbl>\\\\\n",
       "\\hline\n",
       "\t Winter Mean Estimate & 25.165\\\\\n",
       "\t Summer Mean Estimate & 25.078\\\\\n",
       "\\end{tabular}\n"
      ],
      "text/markdown": [
       "\n",
       "A data.frame: 2 × 2\n",
       "\n",
       "| name &lt;chr&gt; | values &lt;dbl&gt; |\n",
       "|---|---|\n",
       "| Winter Mean Estimate | 25.165 |\n",
       "| Summer Mean Estimate | 25.078 |\n",
       "\n"
      ],
      "text/plain": [
       "  name                 values\n",
       "1 Winter Mean Estimate 25.165\n",
       "2 Summer Mean Estimate 25.078"
      ]
     },
     "metadata": {},
     "output_type": "display_data"
    },
    {
     "name": "stdout",
     "output_type": "stream",
     "text": [
      "Table 6: Mean for each season of our original sample"
     ]
    }
   ],
   "source": [
    "name <- c(\"Winter Mean Estimate\", \"Summer Mean Estimate\")\n",
    "values <- c(winter_mean_estimate, summer_mean_estimate)\n",
    "\n",
    "tab <- data.frame(name, values)\n",
    "tab\n",
    "cat(\"Table 6: Mean for each season of our original sample\")"
   ]
  },
  {
   "cell_type": "code",
   "execution_count": 10,
   "id": "a3eb4e0f-de94-4f2d-adf8-8ff8a9447799",
   "metadata": {
    "vscode": {
     "languageId": "r"
    }
   },
   "outputs": [],
   "source": [
    "winter_hist <- plot_histogram(winter_resampled_means, \"mean_age\", 0.1, TRUE) + \n",
    "    geom_vline(xintercept = winter_mean_estimate, color = \"blue\") + \n",
    "    labs(x=\"Mean Age\", title=\"Bootstrap distribution of Mean Age for Winter Olympics\", caption=\"Figure 1.1\") +\n",
    "    theme(plot.caption = element_text(size = 17, hjust=0.5))\n"
   ]
  },
  {
   "cell_type": "code",
   "execution_count": 11,
   "id": "efb60a2a-d695-4ad5-810f-8cd9d093b48d",
   "metadata": {
    "vscode": {
     "languageId": "r"
    }
   },
   "outputs": [],
   "source": [
    "summer_hist <- plot_histogram(summer_resampled_means, \"mean_age\", 0.1, TRUE) +\n",
    "    geom_vline(xintercept = summer_mean_estimate, color = \"blue\") +\n",
    "    labs(x=\"Mean Age\", title=\"Bootstrap distribution of Mean Age for Summer Olympics\", caption=\"Figure 1.2\") +\n",
    "    theme(plot.caption = element_text(size = 17, hjust=0.5))"
   ]
  },
  {
   "cell_type": "code",
   "execution_count": 12,
   "id": "24a0c23c-d2fb-449b-b835-9d022ec8999c",
   "metadata": {
    "vscode": {
     "languageId": "r"
    }
   },
   "outputs": [
    {
     "data": {
      "image/png": "[encoded data removed]",
      "text/plain": [
       "plot without title"
      ]
     },
     "metadata": {
      "image/png": {
       "height": 480,
       "width": 720
      }
     },
     "output_type": "display_data"
    }
   ],
   "source": [
    "options(repr.plot.width=12, repr.plot.height=8)\n",
    "plot_grid(winter_hist, summer_hist)"
   ]
  },
  {
   "cell_type": "markdown",
   "id": "7b3ef55a",
   "metadata": {},
   "source": [
    "### Hypothesis Testing"
   ]
  },
  {
   "cell_type": "markdown",
   "id": "national-doctrine",
   "metadata": {},
   "source": [
    "#### Simulation-based Hypothesis Testing"
   ]
  },
  {
   "cell_type": "markdown",
   "id": "controlling-freeware",
   "metadata": {},
   "source": [
    "Let's first establish our hypotheses once again - we believe that <u>the mean age of first-time medal winners in the Winter Olympics is higher than that of the Summer Olympics</u>, that is:\n",
    "\n",
    "$$ H_0: \\mu_{\\text{Summer}} =  \\mu_{\\text{Winter}} ~~~ \\text{ vs } ~~~ H_A: \\mu_{\\text{Summer}} \\neq \\mu_{\\text{Winter}} $$\n",
    "\n",
    "We'll be performing hypothesis testing test if our observed difference in sample mean $\\mu_\\text{summer} - \\mu_\\text{winter} = 25.078 - 25.165 = -0.0867$ is due to sampling error or not. To perform our hypothesis test, we'll be performing a simulation-based hypothesis test using the `infer` package."
   ]
  },
  {
   "cell_type": "markdown",
   "id": "exclusive-seeking",
   "metadata": {},
   "source": [
    "First, we will combine both `summer_sample` and `winter_sample` into one `combined_sample`."
   ]
  },
  {
   "cell_type": "code",
   "execution_count": 13,
   "id": "promising-object",
   "metadata": {
    "vscode": {
     "languageId": "r"
    }
   },
   "outputs": [],
   "source": [
    "combined_sample <- bind_rows(summer_sample, winter_sample)"
   ]
  },
  {
   "cell_type": "markdown",
   "id": "metric-occurrence",
   "metadata": {},
   "source": [
    "We will utilize the `infer` workflow to calculate the bootstrap sample of difference in mean age between Summer and Winter Olympic under the Null Hypothesis (Distribution)."
   ]
  },
  {
   "cell_type": "code",
   "execution_count": 14,
   "id": "eastern-fancy",
   "metadata": {
    "vscode": {
     "languageId": "r"
    }
   },
   "outputs": [],
   "source": [
    "set.seed(42069)\n",
    "\n",
    "null_distribution <- combined_sample %>%\n",
    "    specify(Age ~ Season) %>%\n",
    "    hypothesise(\"independence\") %>%\n",
    "    generate(reps = 1000, type = \"permute\") %>%\n",
    "    calculate(stat = \"diff in means\", order = c(\"Summer\", \"Winter\"))"
   ]
  },
  {
   "cell_type": "markdown",
   "id": "automotive-cricket",
   "metadata": {},
   "source": [
    "Use the same workflow to calculate the observed difference in mean between Summer and Winter Olympic."
   ]
  },
  {
   "cell_type": "code",
   "execution_count": 15,
   "id": "royal-converter",
   "metadata": {
    "vscode": {
     "languageId": "r"
    }
   },
   "outputs": [],
   "source": [
    "obs_diff_mean <- combined_sample %>%\n",
    "    specify(Age ~ Season) %>%\n",
    "    calculate(stat = \"diff in means\", order = c(\"Summer\", \"Winter\"))"
   ]
  },
  {
   "cell_type": "markdown",
   "id": "german-indianapolis",
   "metadata": {},
   "source": [
    "From here, we can get the P-value and visualize it on top of the Null Distribution."
   ]
  },
  {
   "cell_type": "code",
   "execution_count": 16,
   "id": "turkish-calendar",
   "metadata": {
    "vscode": {
     "languageId": "r"
    }
   },
   "outputs": [
    {
     "name": "stdout",
     "output_type": "stream",
     "text": [
      "P-value: 0.702\n",
      "\n"
     ]
    },
    {
     "data": {
      "image/png": "[encoded data removed]",
      "text/plain": [
       "plot without title"
      ]
     },
     "metadata": {
      "image/png": {
       "height": 480,
       "width": 720
      }
     },
     "output_type": "display_data"
    }
   ],
   "source": [
    "p_value = get_p_value(null_distribution,\n",
    "                       obs_stat = obs_diff_mean,\n",
    "                       direction = \"both\")\n",
    "\n",
    "cat(c(\"P-value:\", p_value$p_value))\n",
    "cat(\"\\n\\n\")\n",
    "visualize(null_distribution) +\n",
    "    shade_p_value(obs_stat = obs_diff_mean, \"both\") +\n",
    "    labs(caption = \"Figure 2\") +\n",
    "    theme(plot.caption = element_text(size = 17, hjust = 0.5))  # the red vertical line"
   ]
  },
  {
   "cell_type": "markdown",
   "id": "binding-investing",
   "metadata": {},
   "source": [
    "And thus, we achieve a $P$-value of 0.702 from our simulation-based two-sample hypothesis test. We can interpret this value as probability of obtaining a test statistic just as extreme or more extreme than our observed test statistic **assuming the null hypothesis $H_0$ was true** (Chester et al, 2022)"
   ]
  },
  {
   "cell_type": "markdown",
   "id": "99b5115f-d85a-4a23-b8f8-ab1bc2b70519",
   "metadata": {},
   "source": [
    "#### $t-$Test (Theory-based)"
   ]
  },
  {
   "cell_type": "markdown",
   "id": "b6c3579d-e2cb-4914-9c6e-cbacc405ea4e",
   "metadata": {},
   "source": [
    "Serving as a sanity-check, as well as additional evidence for our original theory-based approach to hypothesis testing, we'll also be performing a theory-based hypothesis test using the `infer` package. We will use a Welch's two-sample $t-$test based on the Student t-distribution to reflect the fact that we are comparing two means we assume to be equal by our null hypothesis. Furthermore, our code that computes our t-test also creates a confidence interval reflecting the uncertainty in the differences of the means. \n",
    "\n",
    "A $t-$distribution is appropriate to calculate this interval because, again, we are comparing two means that we assume are equal under our null hypothesis, and we don't know the standard deviations of these populations. Though both our sample sizes are much greater than 30 (or 50 for that matter) - which means that the difference between the $t-$distribution and Normal distribution is close to none; we are still using the $t-$distribution to make the code more generalizable to other samples that may have a smaller $n$.\n",
    "\n",
    "This approach is consistent with our use of bootstrapped samples to compare the population means in our preliminary analysis."
   ]
  },
  {
   "cell_type": "code",
   "execution_count": 17,
   "id": "bd5951ca",
   "metadata": {
    "vscode": {
     "languageId": "r"
    }
   },
   "outputs": [
    {
     "name": "stdout",
     "output_type": "stream",
     "text": [
      "P-value: 0.712421504940786"
     ]
    }
   ],
   "source": [
    "t_test <- t.test(pull(summer_sample, Age),\n",
    "                 pull(winter_sample, Age),\n",
    "                 alternative = \"two.sided\",\n",
    "                 conf.level = 0.95)\n",
    "\n",
    "cat(c(\"P-value:\", t_test$p.value))"
   ]
  },
  {
   "cell_type": "markdown",
   "id": "1253feea-6c38-40f9-8061-07e44a2acc5a",
   "metadata": {},
   "source": [
    "So our theory-based two-sample hypothesis test based on the $t-$distribution gave us a $p-$value of 0.712. The interpretation of the $p-$value here is similar to before, it's the probability of obtaining a test statistic just as extreme or more extreme than our observed test statistic **assuming the null hypothesis $H_0$ was true** (Chester et al, 2022)"
   ]
  },
  {
   "cell_type": "markdown",
   "id": "514d91e5-7b4e-48be-9aa7-9376f3f35eb2",
   "metadata": {},
   "source": [
    "### Confidence Interval\n",
    "\n",
    "Next, we will compute the confidence interval to further the rigidity of our tests as well as communicate uncertainty in our answer."
   ]
  },
  {
   "cell_type": "code",
   "execution_count": 18,
   "id": "6025c396-bd81-435d-a508-3421bd26ab7c",
   "metadata": {
    "vscode": {
     "languageId": "r"
    }
   },
   "outputs": [
    {
     "name": "stdout",
     "output_type": "stream",
     "text": [
      "\u001b[90m# A tibble: 1 x 2\u001b[39m\n",
      "  lower_ci upper_ci\n",
      "     \u001b[3m\u001b[90m<dbl>\u001b[39m\u001b[23m    \u001b[3m\u001b[90m<dbl>\u001b[39m\u001b[23m\n",
      "\u001b[90m1\u001b[39m   -\u001b[31m0\u001b[39m\u001b[31m.\u001b[39m\u001b[31m552\u001b[39m    0.378\n",
      "\n",
      "Table 7: 95% Confidence Interval\n",
      "\n",
      "\n"
     ]
    },
    {
     "data": {
      "image/png": "[encoded data removed]",
      "text/plain": [
       "plot without title"
      ]
     },
     "metadata": {
      "image/png": {
       "height": 480,
       "width": 720
      }
     },
     "output_type": "display_data"
    }
   ],
   "source": [
    "percentile_ci <- null_distribution %>%\n",
    "    get_confidence_interval(level = 0.95,\n",
    "                            point_estimate = obs_diff_mean,\n",
    "                            type = \"se\")\n",
    "    \n",
    "\n",
    "print(percentile_ci)\n",
    "cat(\"\\nTable 7: 95% Confidence Interval\\n\\n\\n\")\n",
    "visualize(null_distribution) +\n",
    "    shade_ci(endpoints = percentile_ci) +\n",
    "    labs(caption = \"Figure 3\") +\n",
    "    theme(plot.caption = element_text(size = 17, hjust = 0.5)) # the blue box"
   ]
  },
  {
   "cell_type": "markdown",
   "id": "03147813-c167-47a0-8150-6bc06b194f05",
   "metadata": {},
   "source": [
    "We got a 95% confidence interval of $[-0.552, 0.378]$ - the visualization of the interval can is shown in Figure 3. This interval can be interpreted as such, we expect the true different in mean age for athletes between Summer Olympic and Winter Olympic will be in between the interval $[-0.552, 0.378]$ roughly 95% of the time. Furthermore, we can note that the confidence interval is very small (eg. -0.552 and 0.378 are less than a year difference in mean age), which also means that the difference in mean age is likely negligible."
   ]
  },
  {
   "cell_type": "markdown",
   "id": "mediterranean-voice",
   "metadata": {},
   "source": [
    "# Results\n",
    "\n",
    "We achieved a p-value of 0.72 from our simulation-based hypothesis testing. Therefore, at the 5% significance level, there is insufficient evidence to support the claim that the mean age between first-time summer and winter Olympics medal winners is the same. Thus, we fail to reject the null hypothesis. We can further confirm this via our theory-based hypothesis tests which achieved a very similar p-value score of 0.71242. This is even further supported by our confidence interval of $[-0.552, 0.378]$ which does contain the null value, $mu_0 = \\mu_{\\text{summer}} - \\mu_{\\text{winter}} = 0$ - refer to Figure 3 and Table 7. Furthermore, we can note that the confidence interval is very small (eg. -0.552 and 0.378 are less than a year difference in mean age), which also means that the difference in mean age is likely negligible.\n",
    "\n",
    "Regarding the question about **bootstrap vs asymptotics**: unfortunately, we cannot calculate the exact coverage probability since we do not have access to the population - but the textbook (Chester et al, 2022) states that the theory-based approach will give us a narrower confidence interval than it should. This leads us to assume that the bootstrapping approach is better than the asymptotic approach because the bootstrapping method creates an actual distribution (see Figure 1.1 and 1.2) that we can sample and create confidence intervals from. This is in contrast to the asymptotic approach, which uses the CLT as a way to assume the distribution shape of our data. Additionally, research found that \"all confidence intervals perform satisfactorily for large samples, while bootstrap performs better in smaller samples in terms of coverage and width\" (Perera, 2008). So to keep our experiment sample-size-agnostic, we would put more trust into the simulation-based approach.\n",
    "\n",
    "This report is trustworthy because in pre-processing, we exclusively included examples that fit the criteria of our research question, i.e athletes that have won medals and whose ages are known. Our sample was conducted randomly (see Table 3.1, 3.2 and their code), meaning it is representative of the Olympian population. Finally, the report is trustworthy because it concedes that there is uncertainty in our calculated mean ages - and since the confidence narrow is narrow, we are not very uncertainty about our answer.\n",
    "\n",
    "Our sampling distribution plots and point estimates are not sufficient to take to stakeholders because they do not illustrate the uncertainty in our calculations. We plan to calculate 95% confidence intervals of the mean age of first-time Olympic medalists in the Summer and Winter Olympics to take the sampling variation into account, and to conduct a $t$-test to see if the true average ages between the games are different."
   ]
  },
  {
   "cell_type": "markdown",
   "id": "ef6308c7-f5c8-4f4f-9ace-19945012a0cb",
   "metadata": {},
   "source": [
    "#  Discussion and Conclusion\n",
    "\n",
    "Our results were unexpected because they did not match our initial prediction, which was that the mean age between first-time Olympic medalists would be different when comparing Summer athletes to Winter athletes, with a skew towards older Winter athletes due to their developed long-term skill level. Our results contradicted our prediction because the **mean age was the same**. This indicates that there is an overall peak age for performance at the international Olympic level, regardless of the sport's season. This conclusion supported by our data is advantageous to the athletic world because it will allow both coaches and athletes to optimize their Olympic training and preparations using the athlete’s biological strengths. Furthermore, this could lead to future subsets of research regarding specific peak performance ages for different sexes, or for different sports. This would create a resource for coaches and athletes alike to make a training plan that tailors to the athlete’s abilities. \n",
    "\n",
    "Regarding reliability, we were careful not to $p-$hack - the act of only reporting a favourable $p-$value that supports the desired claim (Wasserstein & Lazar, 2016). We did our best to avoid $p-$hacking by utilizing and communicating both the confidence value and p-values (which were conducted using 2 different approaches) to report both our findings as well as our confidence and uncertainty.\n",
    "\n",
    "Finally, this research is beneficial to data scientists because it inspires more careful data collection that reflects recency. There are many applications that can come from datasets such as ours, but it is important to always be critical to constantly improve future data collection. For instance, in our data set, there were some notable athletes missing (eg: Usain Bolt). This indicates that the dataset does not showcase every single athlete from both Olympics, which it had claimed to do. Secondly, the dataset only shows data up until 2016 - it’s recent, but it could be more up-to-date as there have been 3 Olympics since then. Identifying these limitations encourages improvements for future collections and studies, and allows the data science community to progress as a whole."
   ]
  },
  {
   "cell_type": "markdown",
   "id": "836411a5-9e28-4f25-bd80-3339bfc4dda2",
   "metadata": {},
   "source": [
    "# References"
   ]
  },
  {
   "cell_type": "markdown",
   "id": "7ad43eb8-9165-4ee8-bb7f-8d19b3df62c1",
   "metadata": {},
   "source": [
    "Apollaro, G., Rodríguez, Y. Q., Herrera-Valenzuela, T., Hernández-Mendo, A., & Falcó, C. (2022, January 27). Relative and chronological age in successful athletes at the World Taekwondo Championships (1997–2019): A focus on the behaviour of multiple medallists. MDPI. Retrieved March 1, 2022, from https://doi.org/10.3390/ijerph19031425 \n",
    "\n",
    "Chester Ismay and Albert Y. Kim Foreword by Kelly S. McConville. (2022, January 21). Statistical Inference via data science. Statistical Inference via Data Science. Retrieved March 30, 2022, from https://moderndive.com/index.html \n",
    "\n",
    "Ford, P. R., & Williams, M. A. (2013, January 23). No relative age effect in the birth dates of award-winning athletes in male professional team sports. Taylor & Francis. Retrieved March 1, 2022, from https://www.tandfonline.com/doi/abs/10.1080/02701367.2011.10599790 \n",
    "\n",
    "John Horne, G. W. (2016, May 26). Understanding the Olympics: Second edition. Taylor & Francis. Retrieved March 1, 2022, from https://www.taylorfrancis.com/books/mono/10.4324/9781315712529/understanding-olympics-john-horne-garry-whannel \n",
    "\n",
    "Perera, S. (2008, October 20). Normal theory and bootstrap confidence interval estimation in assessing diagnostic performance gain when combining two diagnostic tests. Taylor & Francis. Retrieved April 4, 2022, from https://www.tandfonline.com/doi/abs/10.1080/03610910802318374?journalCode=lssp20 \n",
    "\n",
    "Wasserstein, R. L., & Lazar, N. A. (2016, June 9). The ASA statement on P-values: Context, Process, and Purpose. Taylor & Francis. Retrieved April 4, 2022, from https://amstat.tandfonline.com/doi/full/10.1080/00031305.2016.1154108#.YlCaZzdufPb \n"
   ]
  }
 ],
 "metadata": {
  "kernelspec": {
   "display_name": "R",
   "language": "R",
   "name": "ir"
  },
  "language_info": {
   "codemirror_mode": "r",
   "file_extension": ".r",
   "mimetype": "text/x-r-source",
   "name": "R",
   "pygments_lexer": "r",
   "version": "4.0.3"
  }
 },
 "nbformat": 4,
 "nbformat_minor": 5
}
